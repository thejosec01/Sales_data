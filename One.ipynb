{
 "cells": [
  {
   "cell_type": "code",
   "execution_count": 1,
   "id": "5bd9ad2a",
   "metadata": {},
   "outputs": [],
   "source": [
    "import pandas as pd \n",
    "import numpy as np \n",
    "import matplotlib.pyplot as plt\n",
    "import seaborn as sns"
   ]
  },
  {
   "cell_type": "code",
   "execution_count": 5,
   "id": "6d0f04fb",
   "metadata": {},
   "outputs": [],
   "source": [
    "#import data from Github\n",
    "data =pd.read_csv('https://raw.githubusercontent.com/PacktPublishing/Data-Science-for-Marketing-Analytics-Second-Edition/master/Chapter02/Exercise2.01/sales.csv')"
   ]
  },
  {
   "cell_type": "code",
   "execution_count": 6,
   "id": "913f4c26",
   "metadata": {},
   "outputs": [
    {
     "data": {
      "text/html": [
       "<div>\n",
       "<style scoped>\n",
       "    .dataframe tbody tr th:only-of-type {\n",
       "        vertical-align: middle;\n",
       "    }\n",
       "\n",
       "    .dataframe tbody tr th {\n",
       "        vertical-align: top;\n",
       "    }\n",
       "\n",
       "    .dataframe thead th {\n",
       "        text-align: right;\n",
       "    }\n",
       "</style>\n",
       "<table border=\"1\" class=\"dataframe\">\n",
       "  <thead>\n",
       "    <tr style=\"text-align: right;\">\n",
       "      <th></th>\n",
       "      <th>Year</th>\n",
       "      <th>Product line</th>\n",
       "      <th>Product type</th>\n",
       "      <th>Product</th>\n",
       "      <th>Order method type</th>\n",
       "      <th>Retailer country</th>\n",
       "      <th>Revenue</th>\n",
       "      <th>Planned revenue</th>\n",
       "      <th>Product cost</th>\n",
       "      <th>Quantity</th>\n",
       "      <th>Unit cost</th>\n",
       "      <th>Unit price</th>\n",
       "      <th>Gross profit</th>\n",
       "      <th>Unit sale price</th>\n",
       "    </tr>\n",
       "  </thead>\n",
       "  <tbody>\n",
       "    <tr>\n",
       "      <th>0</th>\n",
       "      <td>2004</td>\n",
       "      <td>Golf Equipment</td>\n",
       "      <td>Golf Accessories</td>\n",
       "      <td>Course Pro Golf and Tee Set</td>\n",
       "      <td>Sales visit</td>\n",
       "      <td>United States</td>\n",
       "      <td>5819.70</td>\n",
       "      <td>6586.16</td>\n",
       "      <td>1733.2</td>\n",
       "      <td>619.0</td>\n",
       "      <td>2.8</td>\n",
       "      <td>10.64</td>\n",
       "      <td>4086.50</td>\n",
       "      <td>5.105</td>\n",
       "    </tr>\n",
       "    <tr>\n",
       "      <th>1</th>\n",
       "      <td>2004</td>\n",
       "      <td>Golf Equipment</td>\n",
       "      <td>Golf Accessories</td>\n",
       "      <td>Course Pro Golf and Tee Set</td>\n",
       "      <td>Sales visit</td>\n",
       "      <td>United Kingdom</td>\n",
       "      <td>NaN</td>\n",
       "      <td>NaN</td>\n",
       "      <td>NaN</td>\n",
       "      <td>NaN</td>\n",
       "      <td>NaN</td>\n",
       "      <td>NaN</td>\n",
       "      <td>NaN</td>\n",
       "      <td>NaN</td>\n",
       "    </tr>\n",
       "    <tr>\n",
       "      <th>2</th>\n",
       "      <td>2005</td>\n",
       "      <td>Golf Equipment</td>\n",
       "      <td>Golf Accessories</td>\n",
       "      <td>Course Pro Golf and Tee Set</td>\n",
       "      <td>Sales visit</td>\n",
       "      <td>United States</td>\n",
       "      <td>10904.28</td>\n",
       "      <td>11363.52</td>\n",
       "      <td>2990.4</td>\n",
       "      <td>1068.0</td>\n",
       "      <td>2.8</td>\n",
       "      <td>10.64</td>\n",
       "      <td>7913.88</td>\n",
       "      <td>10.210</td>\n",
       "    </tr>\n",
       "    <tr>\n",
       "      <th>3</th>\n",
       "      <td>2005</td>\n",
       "      <td>Golf Equipment</td>\n",
       "      <td>Golf Accessories</td>\n",
       "      <td>Course Pro Golf and Tee Set</td>\n",
       "      <td>Sales visit</td>\n",
       "      <td>United Kingdom</td>\n",
       "      <td>27987.84</td>\n",
       "      <td>28855.68</td>\n",
       "      <td>7593.6</td>\n",
       "      <td>2712.0</td>\n",
       "      <td>2.8</td>\n",
       "      <td>10.64</td>\n",
       "      <td>20394.24</td>\n",
       "      <td>10.320</td>\n",
       "    </tr>\n",
       "    <tr>\n",
       "      <th>4</th>\n",
       "      <td>2006</td>\n",
       "      <td>Golf Equipment</td>\n",
       "      <td>Golf Accessories</td>\n",
       "      <td>Course Pro Golf and Tee Set</td>\n",
       "      <td>Sales visit</td>\n",
       "      <td>United States</td>\n",
       "      <td>NaN</td>\n",
       "      <td>NaN</td>\n",
       "      <td>NaN</td>\n",
       "      <td>NaN</td>\n",
       "      <td>NaN</td>\n",
       "      <td>NaN</td>\n",
       "      <td>NaN</td>\n",
       "      <td>NaN</td>\n",
       "    </tr>\n",
       "  </tbody>\n",
       "</table>\n",
       "</div>"
      ],
      "text/plain": [
       "   Year    Product line      Product type                      Product  \\\n",
       "0  2004  Golf Equipment  Golf Accessories  Course Pro Golf and Tee Set   \n",
       "1  2004  Golf Equipment  Golf Accessories  Course Pro Golf and Tee Set   \n",
       "2  2005  Golf Equipment  Golf Accessories  Course Pro Golf and Tee Set   \n",
       "3  2005  Golf Equipment  Golf Accessories  Course Pro Golf and Tee Set   \n",
       "4  2006  Golf Equipment  Golf Accessories  Course Pro Golf and Tee Set   \n",
       "\n",
       "  Order method type Retailer country   Revenue  Planned revenue  Product cost  \\\n",
       "0       Sales visit    United States   5819.70          6586.16        1733.2   \n",
       "1       Sales visit   United Kingdom       NaN              NaN           NaN   \n",
       "2       Sales visit    United States  10904.28         11363.52        2990.4   \n",
       "3       Sales visit   United Kingdom  27987.84         28855.68        7593.6   \n",
       "4       Sales visit    United States       NaN              NaN           NaN   \n",
       "\n",
       "   Quantity  Unit cost  Unit price  Gross profit  Unit sale price  \n",
       "0     619.0        2.8       10.64       4086.50            5.105  \n",
       "1       NaN        NaN         NaN           NaN              NaN  \n",
       "2    1068.0        2.8       10.64       7913.88           10.210  \n",
       "3    2712.0        2.8       10.64      20394.24           10.320  \n",
       "4       NaN        NaN         NaN           NaN              NaN  "
      ]
     },
     "execution_count": 6,
     "metadata": {},
     "output_type": "execute_result"
    }
   ],
   "source": [
    "#over view data\n",
    "data.head()"
   ]
  },
  {
   "cell_type": "code",
   "execution_count": 8,
   "id": "8082eaed",
   "metadata": {},
   "outputs": [
    {
     "name": "stdout",
     "output_type": "stream",
     "text": [
      "Index(['Year', 'Product line', 'Product type', 'Product', 'Order method type',\n",
      "       'Retailer country', 'Revenue', 'Planned revenue', 'Product cost',\n",
      "       'Quantity', 'Unit cost', 'Unit price', 'Gross profit',\n",
      "       'Unit sale price'],\n",
      "      dtype='object')\n"
     ]
    }
   ],
   "source": [
    "# list columns in data\n",
    "print(data.columns)"
   ]
  },
  {
   "cell_type": "code",
   "execution_count": 16,
   "id": "9f44344d",
   "metadata": {},
   "outputs": [
    {
     "data": {
      "text/plain": [
       "Retailer country\n",
       "Australia    15528551.26\n",
       "Austria      16639182.90\n",
       "Belgium      14347134.58\n",
       "Brazil       17186250.76\n",
       "Canada       39755474.14\n",
       "Name: Planned revenue, dtype: float64"
      ]
     },
     "execution_count": 16,
     "metadata": {},
     "output_type": "execute_result"
    }
   ],
   "source": [
    "#find total planeed revenue by country\n",
    "data.groupby('Retailer country')['Planned revenue'].sum().head()"
   ]
  },
  {
   "cell_type": "code",
   "execution_count": 13,
   "id": "ad940efb",
   "metadata": {},
   "outputs": [
    {
     "data": {
      "text/plain": [
       "Retailer country\n",
       "United States     1.104916e+08\n",
       "Japan             4.691096e+07\n",
       "China             4.432347e+07\n",
       "United Kingdom    4.081019e+07\n",
       "Canada            3.975547e+07\n",
       "Name: Planned revenue, dtype: float64"
      ]
     },
     "execution_count": 13,
     "metadata": {},
     "output_type": "execute_result"
    }
   ],
   "source": [
    "# arrange by most\n",
    "data.groupby('Retailer country')['Planned revenue'].sum().sort_values( ascending=False).head()"
   ]
  },
  {
   "cell_type": "code",
   "execution_count": 11,
   "id": "6e85e783",
   "metadata": {},
   "outputs": [
    {
     "data": {
      "text/plain": [
       "array(['Golf Equipment', 'Camping Equipment', 'Outdoor Protection',\n",
       "       'Mountaineering Equipment'], dtype=object)"
      ]
     },
     "execution_count": 11,
     "metadata": {},
     "output_type": "execute_result"
    }
   ],
   "source": [
    "# Number of products company\n",
    "data['Product line'].unique()"
   ]
  },
  {
   "cell_type": "code",
   "execution_count": 15,
   "id": "9b6c8320",
   "metadata": {},
   "outputs": [
    {
     "data": {
      "text/plain": [
       "Product line\n",
       "Camping Equipment           4.860065e+08\n",
       "Mountaineering Equipment    5.254793e+07\n",
       "Outdoor Protection          4.713449e+07\n",
       "Golf Equipment              4.205702e+07\n",
       "Name: Revenue, dtype: float64"
      ]
     },
     "execution_count": 15,
     "metadata": {},
     "output_type": "execute_result"
    }
   ],
   "source": [
    "#sales per Product line\n",
    "data.groupby('Product line')['Revenue'].sum().sort_values( ascending=False)"
   ]
  },
  {
   "cell_type": "code",
   "execution_count": null,
   "id": "bf565b52",
   "metadata": {},
   "outputs": [],
   "source": [
    "#say we need to find "
   ]
  }
 ],
 "metadata": {
  "kernelspec": {
   "display_name": "Python 3",
   "language": "python",
   "name": "python3"
  },
  "language_info": {
   "codemirror_mode": {
    "name": "ipython",
    "version": 3
   },
   "file_extension": ".py",
   "mimetype": "text/x-python",
   "name": "python",
   "nbconvert_exporter": "python",
   "pygments_lexer": "ipython3",
   "version": "3.8.8"
  }
 },
 "nbformat": 4,
 "nbformat_minor": 5
}
